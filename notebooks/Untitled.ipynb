{
 "cells": [
  {
   "cell_type": "code",
   "execution_count": 2,
   "id": "fd0364a3-4bef-4ea4-9c0d-d10fcc59fd2c",
   "metadata": {},
   "outputs": [
    {
     "name": "stdout",
     "output_type": "stream",
     "text": [
      "/work/weddell_gyre_clusters/notebooks\n"
     ]
    }
   ],
   "source": [
    "!pwd"
   ]
  },
  {
   "cell_type": "code",
   "execution_count": 5,
   "id": "685b04dd-b2db-4cd2-bb47-822914fdbc9f",
   "metadata": {},
   "outputs": [
    {
     "name": "stdout",
     "output_type": "stream",
     "text": [
      "' SeaIceFreezing_SOSE_winter.png'\t  main008_allDomain_top1000m.py\n",
      " README.md\t\t\t\t  main009_WeddellClassOnly_top1000m.py\n",
      " __init__.py\t\t\t\t  main010_allDomain_10-300m.py\n",
      " allProfs.png\t\t\t\t  main011_WeddellClassOnly_10-300m.py\n",
      " analysis.py\t\t\t\t  main_WeddellClass_only.py\n",
      " archive\t\t\t\t  main_allDomain_byDensity.py\n",
      " bathy.nc\t\t\t\t  main_all_10-300.py\n",
      " bic_and_aic.py\t\t\t\t  main_example.py\n",
      " constants.py\t\t\t\t  main_kernelPCA.py\n",
      " data_loading\t\t\t\t  main_reeve.py\n",
      " density.py\t\t\t\t  main_simple.py\n",
      " file_io.py\t\t\t\t  main_test_plotting.py\n",
      " fronts\t\t\t\t\t  models\n",
      " gmm.py\t\t\t\t\t  plot_all_profiles.py\n",
      " load_and_preprocess.py\t\t\t  plot_tools.py\n",
      " main000_where_profiles.py\t\t  plots\n",
      " main001_allDomain_300m-1000m.py\t  plots_reeve\n",
      " main002_allDomain_10m-300m.py\t\t  reproduce_multiIndex_problem.py\n",
      " main003_sof50_10m-300m.py\t\t  seaice\n",
      " main004_WeddellSea_10m-300m.py\t\t  testing\n",
      " main005_WeddellSeaZoom01_10m-300m.py\t  tests\n",
      " main006_WeddellClassOnly_10m-300m.py\t  trim.sh\n",
      " main007_WeddellClassOnly_300m-1000m.py   try_scaling_idea.py\n"
     ]
    }
   ],
   "source": [
    "!ls ../../weddell_gyre_clusters/src/"
   ]
  },
  {
   "cell_type": "code",
   "execution_count": 7,
   "id": "11c957a2-bdf0-4088-9986-caade57f81e9",
   "metadata": {},
   "outputs": [
    {
     "ename": "SyntaxError",
     "evalue": "invalid syntax (3273966253.py, line 1)",
     "output_type": "error",
     "traceback": [
      "\u001b[0;36m  File \u001b[0;32m\"/tmp/ipykernel_344/3273966253.py\"\u001b[0;36m, line \u001b[0;32m1\u001b[0m\n\u001b[0;31m    from ../../weddell_gyre_clusters import weddell_clusters\u001b[0m\n\u001b[0m           ^\u001b[0m\n\u001b[0;31mSyntaxError\u001b[0m\u001b[0;31m:\u001b[0m invalid syntax\n"
     ]
    }
   ],
   "source": [
    "from ../../weddell_gyre_clusters import weddell_clusters"
   ]
  },
  {
   "cell_type": "code",
   "execution_count": null,
   "id": "26ce02fb-3a10-4e9f-82a9-f1f819e3a9b9",
   "metadata": {},
   "outputs": [],
   "source": []
  }
 ],
 "metadata": {
  "kernelspec": {
   "display_name": "Python 3 (ipykernel)",
   "language": "python",
   "name": "python3"
  },
  "language_info": {
   "codemirror_mode": {
    "name": "ipython",
    "version": 3
   },
   "file_extension": ".py",
   "mimetype": "text/x-python",
   "name": "python",
   "nbconvert_exporter": "python",
   "pygments_lexer": "ipython3",
   "version": "3.9.7"
  }
 },
 "nbformat": 4,
 "nbformat_minor": 5
}
