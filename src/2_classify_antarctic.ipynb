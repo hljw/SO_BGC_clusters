{
 "cells": [
  {
   "cell_type": "markdown",
   "id": "d105ecb6-0035-42aa-aa59-1115dd2188d3",
   "metadata": {},
   "source": [
    "# Classifying near-Antarctic profiles"
   ]
  },
  {
   "cell_type": "code",
   "execution_count": null,
   "id": "66535f08-be33-40c8-ade0-2295d4f72c69",
   "metadata": {},
   "outputs": [],
   "source": [
    "### modules in this package\n",
    "import load_and_preprocess as lp\n",
    "import analysis as at\n",
    "import bic_and_aic as ba\n",
    "import plot_tools as pt\n",
    "import file_io as io\n",
    "import numpy as np\n",
    "import xarray\n",
    "import density\n",
    "import gmm\n",
    "### plotting tools\n",
    "import matplotlib\n",
    "import matplotlib.pyplot as plt\n",
    "import matplotlib.colors as colors\n",
    "import matplotlib.cm as cmx\n",
    "import matplotlib as mpl\n",
    "import cmocean\n",
    "### os tools\n",
    "import os.path\n",
    "\n",
    "# Suppress a particular warning\n",
    "import warnings\n",
    "warnings.filterwarnings('ignore', 'RuntimeWarning: All-NaN slice encountered')"
   ]
  }
 ],
 "metadata": {
  "kernelspec": {
   "display_name": "Python 3 (ipykernel)",
   "language": "python",
   "name": "python3"
  },
  "language_info": {
   "codemirror_mode": {
    "name": "ipython",
    "version": 3
   },
   "file_extension": ".py",
   "mimetype": "text/x-python",
   "name": "python",
   "nbconvert_exporter": "python",
   "pygments_lexer": "ipython3",
   "version": "3.9.7"
  }
 },
 "nbformat": 4,
 "nbformat_minor": 5
}
