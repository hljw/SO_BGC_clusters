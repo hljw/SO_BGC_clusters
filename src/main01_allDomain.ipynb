{
 "cells": [
  {
   "cell_type": "code",
   "execution_count": 2,
   "id": "0e5ec60c-ca2f-497c-91e1-8491cee94869",
   "metadata": {},
   "outputs": [],
   "source": [
    "### modules in this package\n",
    "import load_and_preprocess as lp\n",
    "import analysis as at\n",
    "import bic_and_aic as ba\n",
    "import plot_tools as pt\n",
    "import file_io as io\n",
    "import xarray\n",
    "import density\n",
    "import gmm\n",
    "### plotting tools\n",
    "import matplotlib\n",
    "import matplotlib.pyplot as plt\n",
    "import matplotlib.colors as colors\n",
    "import matplotlib.cm as cmx\n",
    "import matplotlib as mpl\n",
    "### os tools\n",
    "import os.path\n",
    "\n",
    "# Suppress a particular warning\n",
    "import warnings\n",
    "warnings.filterwarnings('ignore', 'RuntimeWarning: All-NaN slice encountered')"
   ]
  },
  {
   "cell_type": "code",
   "execution_count": 4,
   "id": "2de4f508-c91e-4777-a86b-fb0fbf224a3b",
   "metadata": {},
   "outputs": [],
   "source": [
    "#####################################################################\n",
    "# Set runtime parameters (filenames, flags, ranges)\n",
    "#####################################################################\n",
    "\n",
    "# set locations and names\n",
    "descrip = 'allDomain' # extra description for filename\n",
    "data_location = '../../so-chic-data/' # input data location\n",
    "ploc = 'plots/plots_allDomain_top1000m_K05_forOSM22_tmp/'\n",
    "dloc = 'models/'\n",
    "\n",
    "# if plot directory doesn't exist, create it\n",
    "if not os.path.exists(ploc):\n",
    "    os.makedirs(ploc)\n",
    "\n",
    "# calculate BIC and AIC? set max number of components\n",
    "getBIC = False\n",
    "max_N = 20\n",
    "\n",
    "# transformation method (pca, umap)\n",
    "# --- at present, UMAP transform crashes the kernel\n",
    "transform_method = 'pca'\n",
    "\n",
    "# use the kernel PCA approach (memory intensive, not working yet)\n",
    "use_kernel_pca = False\n",
    "\n",
    "# save the processed output as a NetCDF file?\n",
    "saveOutput = False\n",
    "\n",
    "# number of PCA components\n",
    "# --- EXPLAINED VARIANCE Is = 0.95\n",
    "n_pca = 6\n",
    "\n",
    "# make decision about n_components_selected (iterative part of analysis)\n",
    "n_components_selected = 5\n",
    "\n",
    "#longitude and latitude range\n",
    "lon_min = -65\n",
    "lon_max =  80\n",
    "lat_min = -85\n",
    "lat_max = -30\n",
    "# depth range\n",
    "zmin = 20.0\n",
    "zmax = 1000.0\n",
    "# density range\n",
    "sig0range = (23.0, 28.0)\n",
    "\n",
    "# temperature and salinity ranges for plotting\n",
    "Trange=(-2, 25.0)\n",
    "Srange=(33.0, 37.0)\n",
    "\n",
    "# create filename for saving GMM and saving labelled profiles\n",
    "pca_fname = dloc + 'pca_' + str(int(lon_min)) + 'to' + str(int(lon_max)) + 'lon_' + str(int(lat_min)) + 'to' + str(int(lat_max)) + 'lat_' + str(int(zmin)) + 'to' + str(int(zmax)) + 'depth_' + str(int(n_pca)) + descrip\n",
    "gmm_fname = dloc + 'gmm_' + str(int(lon_min)) + 'to' + str(int(lon_max)) + 'lon_' + str(int(lat_min)) + 'to' + str(int(lat_max)) + 'lat_' + str(int(zmin)) + 'to' + str(int(zmax)) + 'depth_' + str(int(n_components_selected)) + 'K_' + descrip\n",
    "fname = dloc + 'profiles_' + str(int(lon_min)) + 'to' + str(int(lon_max)) + 'lon_' + str(int(lat_min)) + 'to' + str(int(lat_max)) + 'lat_' + str(int(zmin)) + 'to' + str(int(zmax)) + 'depth_' + str(int(n_components_selected)) + 'K_' + descrip + '.nc'\n",
    "\n",
    "#\n",
    "# colormap (to be used across all plots)\n",
    "#\n",
    "colormap = plt.get_cmap('tab10', n_components_selected)"
   ]
  },
  {
   "cell_type": "code",
   "execution_count": 5,
   "id": "326f6264-2e9d-48af-9a86-47f7c0565086",
   "metadata": {},
   "outputs": [],
   "source": [
    "#####################################################################\n",
    "# Run the standard analysis stuff\n",
    "#####################################################################\n",
    "#####################################################################\n",
    "# Data loading and preprocessing\n",
    "#####################################################################\n",
    "\n",
    "# load profile subset based on ranges given above\n",
    "profiles = lp.load_profile_data(data_location, lon_min, lon_max,\n",
    "                                lat_min, lat_max, zmin, zmax)\n",
    "\n",
    "# preprocess date and time\n",
    "profiles = lp.preprocess_time_and_date(profiles)\n",
    "\n",
    "# calculate conservative temperature, absolute salinity, and density (sig0)\n",
    "profiles = density.calc_density(profiles)\n",
    "\n",
    "# quick prof_T and prof_S selection plots\n",
    "pt.prof_TS_sample_plots(ploc, profiles)\n",
    "\n",
    "# plot random profile\n",
    "pt.plot_profile(ploc, profiles.isel(profile=1000))\n",
    "\n",
    "# regrid onto density levels (maybe useful for plotting later?)\n",
    "profiles = lp.regrid_onto_more_vertical_levels(profiles, zmin, zmax)\n",
    "profiles = lp.regrid_onto_density_levels(profiles)"
   ]
  },
  {
   "cell_type": "code",
   "execution_count": 5,
   "id": "1a4d14b9-f50a-4c4f-9d7c-c63fcd5ba908",
   "metadata": {},
   "outputs": [
    {
     "name": "stdout",
     "output_type": "stream",
     "text": [
      "load_and_preprocess.load_profile_data\n",
      "----> profiles loaded\n",
      "load_and_preprocess.preprocess_time_and_date\n",
      "density.calc_density\n",
      "plot_tools.plot_TS_sample_plots\n",
      "plot_tools.plot_profiles\n",
      "load_and_preprocess.regrid_onto_more_vertical_levels\n",
      "load_and_preprocess.regrid_onto_density_levels\n",
      "******************************************************************\n",
      "Number of Argo profiles after selection applied = 134698\n",
      "Number of CTD profiles after selection applied = 7636\n",
      "Number of seal profiles after selection applied = 0\n",
      "******************************************************************\n",
      "Total number of profiles after selection applied = 142334\n"
     ]
    }
   ],
   "source": [
    "# print some values : how many profiles?\n",
    "n_argo = profiles.where(profiles.source=='argo',drop=True).profile.size\n",
    "n_ctd = profiles.where(profiles.source=='ctd',drop=True).profile.size\n",
    "n_seal = profiles.where(profiles.source=='seal',drop=True).profile.size\n",
    "n_profiles = n_argo + n_ctd + n_seal\n",
    "print('******************************************************************')\n",
    "print('Number of Argo profiles after selection applied = ' + str(n_argo))\n",
    "print('Number of CTD profiles after selection applied = ' + str(n_ctd))\n",
    "print('Number of seal profiles after selection applied = ' + str(n_seal))\n",
    "print('******************************************************************')\n",
    "print('Total number of profiles after selection applied = ' + str(n_profiles))\n",
    "\n",
    "# pairplot: unscaled (warning: this is very slow)\n",
    "#pt.plot_pairs(ploc,np.concatenate((profiles.prof_CT, profiles.prof_SA),axis=1),\n",
    "#              kind=\"hist\",descr=\"unscaled\")\n",
    "\n",
    "# select more specific density range\n",
    "#profiles = lp.select_sig0_range(profiles, sig0range=sig0range)\n",
    "\n",
    "# plot sa and ct on density levels (CRASHES)\n",
    "#pt.plot_profiles_on_density_levels(ploc, profiles)"
   ]
  },
  {
   "cell_type": "code",
   "execution_count": 6,
   "id": "1a5431e1-0075-475e-8854-a05a04c03361",
   "metadata": {},
   "outputs": [
    {
     "name": "stdout",
     "output_type": "stream",
     "text": [
      "load_and_preprocess.fit_and_apply_pca\n",
      "load_and_preprocess.apply_scaling\n",
      "load_and_preprocess.apply_scaling: using depth levels\n",
      "Fitting PCA\n",
      "0.9934001890147199\n",
      "file_io.save_pca\n",
      "plot_tools.plot_pca3D\n",
      "plot_tools.plot_pairs\n"
     ]
    },
    {
     "data": {
      "text/plain": [
       "<Figure size 1080x1080 with 0 Axes>"
      ]
     },
     "metadata": {},
     "output_type": "display_data"
    }
   ],
   "source": [
    "#####################################################################\n",
    "# Dimensionality reduction / transformation\n",
    "#####################################################################\n",
    "\n",
    "# use PCA, either regular or KernelPCA\n",
    "if transform_method=='pca':\n",
    "\n",
    "    # if trained PCA already exists, load it\n",
    "    if os.path.isfile(pca_fname):\n",
    "        pca = io.load_pca(pca_fname)\n",
    "        Xtrans = lp.apply_pca(profiles, pca)\n",
    "    # otherwise, go ahead and train it\n",
    "    else:\n",
    "        # apply PCA\n",
    "        pca, Xtrans = lp.fit_and_apply_pca(profiles,\n",
    "                                           number_of_pca_components=n_pca,\n",
    "                                           kernel=use_kernel_pca,\n",
    "                                           train_frac=0.99)\n",
    "        # save for future use\n",
    "        io.save_pca(pca_fname, pca)\n",
    "\n",
    "    # plot PCA structure\n",
    "    #pt.plot_pca_vertical_structure(ploc, profiles, pca, Xtrans)\n",
    "    pt.plot_pca3D(ploc, colormap, profiles, Xtrans, frac=0.33)\n",
    "\n",
    "    # pairplot of transformed variables\n",
    "    pt.plot_pairs(ploc, Xtrans, kind='hist', descr=transform_method)\n",
    "\n",
    "# the UMAP method produces a 2D projection\n",
    "elif transform_method=='umap':\n",
    "\n",
    "    # alternatively, apply UMAP\n",
    "    embedding, Xtrans = lp.fit_and_apply_umap(profiles,\n",
    "                                              n_neighbors=50, min_dist=0.0)\n",
    "\n",
    "    # plot UMAP structure\n",
    "    pt.plot_umap(ploc, Xtrans)\n",
    "\n",
    "    # pairplot of transformed variables\n",
    "    pt.plot_pairs(ploc, Xtrans, kind='hist', descr=transform_method)\n",
    "\n",
    "else:\n",
    "\n",
    "    print('Invalid transform method! Must be pca or umap')"
   ]
  },
  {
   "cell_type": "code",
   "execution_count": 7,
   "id": "a228494c-897a-4979-86e2-b204011f1998",
   "metadata": {},
   "outputs": [],
   "source": [
    "#####################################################################\n",
    "# Statistical measures to inform number of classes\n",
    "#####################################################################\n",
    "\n",
    "# calculate BIC and AIC\n",
    "if getBIC==True:\n",
    "    bic_mean, bic_std, aic_mean, aic_std = ba.calc_bic_and_aic(Xtrans, max_N)\n",
    "    pt.plot_bic_scores(ploc, max_N, bic_mean, bic_std)\n",
    "    pt.plot_aic_scores(ploc, max_N, aic_mean, aic_std)"
   ]
  },
  {
   "cell_type": "code",
   "execution_count": 8,
   "id": "17806a11-1f80-4e80-9528-a49310c5650a",
   "metadata": {},
   "outputs": [
    {
     "name": "stdout",
     "output_type": "stream",
     "text": [
      "gmm.train_gmm\n",
      "file_io.save_gmm\n",
      "gmm.apply_gmm\n",
      "gmm.calc_class_stats\n"
     ]
    }
   ],
   "source": [
    "#####################################################################\n",
    "# Establish GMM (either load it or train a new one)\n",
    "#####################################################################\n",
    "\n",
    "# if GMM exists, load it. Otherwise, create it.\n",
    "if os.path.isfile(gmm_fname):\n",
    "    best_gmm = io.load_gmm(gmm_fname)\n",
    "else:\n",
    "    best_gmm = gmm.train_gmm(Xtrans, n_components_selected)\n",
    "    io.save_gmm(gmm_fname, best_gmm)\n",
    "\n",
    "# apply either loaded or created GMM\n",
    "profiles = gmm.apply_gmm(profiles, Xtrans, best_gmm, n_components_selected)\n",
    "\n",
    "# calculate class statistics\n",
    "class_means, class_stds = gmm.calc_class_stats(profiles)"
   ]
  },
  {
   "cell_type": "code",
   "execution_count": null,
   "id": "bf2de033-ab30-40c3-b013-fc1abc614988",
   "metadata": {},
   "outputs": [],
   "source": [
    "#####################################################################\n",
    "# Calculate and plot tSNE with class labels\n",
    "#####################################################################\n",
    "\n",
    "# fit and apply tsne\n",
    "tSNE_data, labels_for_tSNE = lp.fit_and_apply_tsne(profiles, Xtrans)\n",
    "\n",
    "# plot t-SNE with class labels\n",
    "pt.plot_tsne(ploc, colormap, tSNE_data, labels_for_tSNE)"
   ]
  },
  {
   "cell_type": "code",
   "execution_count": 9,
   "id": "e1c03493-803a-40cb-9896-c660a869b573",
   "metadata": {},
   "outputs": [
    {
     "name": "stdout",
     "output_type": "stream",
     "text": [
      "plot_tools.plot_class_vertical_structures\n",
      "plot_tools.plot_many_profiles\n"
     ]
    },
    {
     "name": "stderr",
     "output_type": "stream",
     "text": [
      "/srv/conda/envs/notebook/lib/python3.9/site-packages/numpy/lib/nanfunctions.py:1395: RuntimeWarning: All-NaN slice encountered\n",
      "  result = np.apply_along_axis(_nanquantile_1d, axis, a, q,\n",
      "/srv/conda/envs/notebook/lib/python3.9/site-packages/numpy/lib/nanfunctions.py:1395: RuntimeWarning: All-NaN slice encountered\n",
      "  result = np.apply_along_axis(_nanquantile_1d, axis, a, q,\n",
      "/srv/conda/envs/notebook/lib/python3.9/site-packages/numpy/lib/nanfunctions.py:1395: RuntimeWarning: All-NaN slice encountered\n",
      "  result = np.apply_along_axis(_nanquantile_1d, axis, a, q,\n",
      "/srv/conda/envs/notebook/lib/python3.9/site-packages/numpy/lib/nanfunctions.py:1395: RuntimeWarning: All-NaN slice encountered\n",
      "  result = np.apply_along_axis(_nanquantile_1d, axis, a, q,\n",
      "/srv/conda/envs/notebook/lib/python3.9/site-packages/numpy/lib/nanfunctions.py:1395: RuntimeWarning: All-NaN slice encountered\n",
      "  result = np.apply_along_axis(_nanquantile_1d, axis, a, q,\n",
      "/srv/conda/envs/notebook/lib/python3.9/site-packages/numpy/lib/nanfunctions.py:1395: RuntimeWarning: All-NaN slice encountered\n",
      "  result = np.apply_along_axis(_nanquantile_1d, axis, a, q,\n"
     ]
    },
    {
     "name": "stdout",
     "output_type": "stream",
     "text": [
      "plot_tools.plot_many_profiles\n"
     ]
    },
    {
     "name": "stderr",
     "output_type": "stream",
     "text": [
      "/srv/conda/envs/notebook/lib/python3.9/site-packages/numpy/lib/nanfunctions.py:1395: RuntimeWarning: All-NaN slice encountered\n",
      "  result = np.apply_along_axis(_nanquantile_1d, axis, a, q,\n",
      "/srv/conda/envs/notebook/lib/python3.9/site-packages/numpy/lib/nanfunctions.py:1395: RuntimeWarning: All-NaN slice encountered\n",
      "  result = np.apply_along_axis(_nanquantile_1d, axis, a, q,\n",
      "/srv/conda/envs/notebook/lib/python3.9/site-packages/numpy/lib/nanfunctions.py:1395: RuntimeWarning: All-NaN slice encountered\n",
      "  result = np.apply_along_axis(_nanquantile_1d, axis, a, q,\n",
      "/srv/conda/envs/notebook/lib/python3.9/site-packages/numpy/lib/nanfunctions.py:1395: RuntimeWarning: All-NaN slice encountered\n",
      "  result = np.apply_along_axis(_nanquantile_1d, axis, a, q,\n",
      "/srv/conda/envs/notebook/lib/python3.9/site-packages/numpy/lib/nanfunctions.py:1395: RuntimeWarning: All-NaN slice encountered\n",
      "  result = np.apply_along_axis(_nanquantile_1d, axis, a, q,\n",
      "/srv/conda/envs/notebook/lib/python3.9/site-packages/numpy/lib/nanfunctions.py:1395: RuntimeWarning: All-NaN slice encountered\n",
      "  result = np.apply_along_axis(_nanquantile_1d, axis, a, q,\n"
     ]
    },
    {
     "name": "stdout",
     "output_type": "stream",
     "text": [
      "plot_tools.plot_many_profiles\n"
     ]
    },
    {
     "name": "stderr",
     "output_type": "stream",
     "text": [
      "/srv/conda/envs/notebook/lib/python3.9/site-packages/numpy/lib/nanfunctions.py:1395: RuntimeWarning: All-NaN slice encountered\n",
      "  result = np.apply_along_axis(_nanquantile_1d, axis, a, q,\n",
      "/srv/conda/envs/notebook/lib/python3.9/site-packages/numpy/lib/nanfunctions.py:1395: RuntimeWarning: All-NaN slice encountered\n",
      "  result = np.apply_along_axis(_nanquantile_1d, axis, a, q,\n",
      "/srv/conda/envs/notebook/lib/python3.9/site-packages/numpy/lib/nanfunctions.py:1395: RuntimeWarning: All-NaN slice encountered\n",
      "  result = np.apply_along_axis(_nanquantile_1d, axis, a, q,\n",
      "/srv/conda/envs/notebook/lib/python3.9/site-packages/numpy/lib/nanfunctions.py:1395: RuntimeWarning: All-NaN slice encountered\n",
      "  result = np.apply_along_axis(_nanquantile_1d, axis, a, q,\n",
      "/srv/conda/envs/notebook/lib/python3.9/site-packages/numpy/lib/nanfunctions.py:1395: RuntimeWarning: All-NaN slice encountered\n",
      "  result = np.apply_along_axis(_nanquantile_1d, axis, a, q,\n",
      "/srv/conda/envs/notebook/lib/python3.9/site-packages/numpy/lib/nanfunctions.py:1395: RuntimeWarning: All-NaN slice encountered\n",
      "  result = np.apply_along_axis(_nanquantile_1d, axis, a, q,\n"
     ]
    },
    {
     "name": "stdout",
     "output_type": "stream",
     "text": [
      "plot_tools.plot_many_profiles\n"
     ]
    },
    {
     "name": "stderr",
     "output_type": "stream",
     "text": [
      "/srv/conda/envs/notebook/lib/python3.9/site-packages/numpy/lib/nanfunctions.py:1395: RuntimeWarning: All-NaN slice encountered\n",
      "  result = np.apply_along_axis(_nanquantile_1d, axis, a, q,\n",
      "/srv/conda/envs/notebook/lib/python3.9/site-packages/numpy/lib/nanfunctions.py:1395: RuntimeWarning: All-NaN slice encountered\n",
      "  result = np.apply_along_axis(_nanquantile_1d, axis, a, q,\n",
      "/srv/conda/envs/notebook/lib/python3.9/site-packages/numpy/lib/nanfunctions.py:1395: RuntimeWarning: All-NaN slice encountered\n",
      "  result = np.apply_along_axis(_nanquantile_1d, axis, a, q,\n",
      "/srv/conda/envs/notebook/lib/python3.9/site-packages/numpy/lib/nanfunctions.py:1395: RuntimeWarning: All-NaN slice encountered\n",
      "  result = np.apply_along_axis(_nanquantile_1d, axis, a, q,\n",
      "/srv/conda/envs/notebook/lib/python3.9/site-packages/numpy/lib/nanfunctions.py:1395: RuntimeWarning: All-NaN slice encountered\n",
      "  result = np.apply_along_axis(_nanquantile_1d, axis, a, q,\n",
      "/srv/conda/envs/notebook/lib/python3.9/site-packages/numpy/lib/nanfunctions.py:1395: RuntimeWarning: All-NaN slice encountered\n",
      "  result = np.apply_along_axis(_nanquantile_1d, axis, a, q,\n"
     ]
    },
    {
     "name": "stdout",
     "output_type": "stream",
     "text": [
      "plot_tools.plot_many_profiles\n"
     ]
    },
    {
     "ename": "KeyboardInterrupt",
     "evalue": "",
     "output_type": "error",
     "traceback": [
      "\u001b[0;31m---------------------------------------------------------------------------\u001b[0m",
      "\u001b[0;31mKeyboardInterrupt\u001b[0m                         Traceback (most recent call last)",
      "\u001b[0;32m/tmp/ipykernel_322/2359585570.py\u001b[0m in \u001b[0;36m<module>\u001b[0;34m\u001b[0m\n\u001b[1;32m      9\u001b[0m \u001b[0;34m\u001b[0m\u001b[0m\n\u001b[1;32m     10\u001b[0m \u001b[0;31m# plot T, S vertical structure of the classes\u001b[0m\u001b[0;34m\u001b[0m\u001b[0;34m\u001b[0m\u001b[0m\n\u001b[0;32m---> 11\u001b[0;31m pt.plot_class_vertical_structures(ploc, profiles, n_components_selected,\n\u001b[0m\u001b[1;32m     12\u001b[0m                                   \u001b[0mcolormap\u001b[0m\u001b[0;34m,\u001b[0m \u001b[0mzmin\u001b[0m\u001b[0;34m=\u001b[0m\u001b[0mzmin\u001b[0m\u001b[0;34m,\u001b[0m \u001b[0mzmax\u001b[0m\u001b[0;34m=\u001b[0m\u001b[0mzmax\u001b[0m\u001b[0;34m,\u001b[0m\u001b[0;34m\u001b[0m\u001b[0;34m\u001b[0m\u001b[0m\n\u001b[1;32m     13\u001b[0m                                   \u001b[0mTmin\u001b[0m\u001b[0;34m=\u001b[0m\u001b[0mTrange\u001b[0m\u001b[0;34m[\u001b[0m\u001b[0;36m0\u001b[0m\u001b[0;34m]\u001b[0m\u001b[0;34m,\u001b[0m \u001b[0mTmax\u001b[0m\u001b[0;34m=\u001b[0m\u001b[0mTrange\u001b[0m\u001b[0;34m[\u001b[0m\u001b[0;36m1\u001b[0m\u001b[0;34m]\u001b[0m\u001b[0;34m,\u001b[0m\u001b[0;34m\u001b[0m\u001b[0;34m\u001b[0m\u001b[0m\n",
      "\u001b[0;32m/work/weddell_gyre_clusters/src/plot_tools.py\u001b[0m in \u001b[0;36mplot_class_vertical_structures\u001b[0;34m(ploc, df1, n_components_selected, colormap, zmin, zmax, Tmin, Tmax, Smin, Smax, sig0min, sig0max, frac)\u001b[0m\n\u001b[1;32m    836\u001b[0m         \u001b[0;31m# just select single class/label\u001b[0m\u001b[0;34m\u001b[0m\u001b[0;34m\u001b[0m\u001b[0m\n\u001b[1;32m    837\u001b[0m         \u001b[0mdf1_singleClass\u001b[0m \u001b[0;34m=\u001b[0m \u001b[0mdf1\u001b[0m\u001b[0;34m.\u001b[0m\u001b[0mwhere\u001b[0m\u001b[0;34m(\u001b[0m\u001b[0mdf1\u001b[0m\u001b[0;34m.\u001b[0m\u001b[0mlabel\u001b[0m\u001b[0;34m==\u001b[0m\u001b[0mnrow\u001b[0m\u001b[0;34m,\u001b[0m \u001b[0mdrop\u001b[0m\u001b[0;34m=\u001b[0m\u001b[0;32mTrue\u001b[0m\u001b[0;34m)\u001b[0m\u001b[0;34m\u001b[0m\u001b[0;34m\u001b[0m\u001b[0m\n\u001b[0;32m--> 838\u001b[0;31m \u001b[0;34m\u001b[0m\u001b[0m\n\u001b[0m\u001b[1;32m    839\u001b[0m         \u001b[0;31m# call routine to plot many profiles\u001b[0m\u001b[0;34m\u001b[0m\u001b[0;34m\u001b[0m\u001b[0m\n\u001b[1;32m    840\u001b[0m         plot_many_profiles(ploc, df1_singleClass, frac=0.10,\n",
      "\u001b[0;32m/work/weddell_gyre_clusters/src/plot_tools.py\u001b[0m in \u001b[0;36mplot_many_profiles\u001b[0;34m(ploc, df, frac, zmin, zmax, Tmin, Tmax, Smin, Smax, sig0min, sig0max, alpha, modStr, colorVal)\u001b[0m\n\u001b[1;32m    147\u001b[0m \u001b[0;34m\u001b[0m\u001b[0m\n\u001b[1;32m    148\u001b[0m    \u001b[0;31m# 0.25 quantile\u001b[0m\u001b[0;34m\u001b[0m\u001b[0;34m\u001b[0m\u001b[0m\n\u001b[0;32m--> 149\u001b[0;31m    \u001b[0mCT_q25\u001b[0m \u001b[0;34m=\u001b[0m \u001b[0mdf\u001b[0m\u001b[0;34m.\u001b[0m\u001b[0mprof_CT\u001b[0m\u001b[0;34m.\u001b[0m\u001b[0mquantile\u001b[0m\u001b[0;34m(\u001b[0m\u001b[0;36m0.25\u001b[0m\u001b[0;34m,\u001b[0m \u001b[0mdim\u001b[0m\u001b[0;34m=\u001b[0m\u001b[0;34m'profile'\u001b[0m\u001b[0;34m)\u001b[0m\u001b[0;34m.\u001b[0m\u001b[0mvalues\u001b[0m\u001b[0;34m\u001b[0m\u001b[0;34m\u001b[0m\u001b[0m\n\u001b[0m\u001b[1;32m    150\u001b[0m    \u001b[0mSA_q25\u001b[0m \u001b[0;34m=\u001b[0m \u001b[0mdf\u001b[0m\u001b[0;34m.\u001b[0m\u001b[0mprof_SA\u001b[0m\u001b[0;34m.\u001b[0m\u001b[0mquantile\u001b[0m\u001b[0;34m(\u001b[0m\u001b[0;36m0.25\u001b[0m\u001b[0;34m,\u001b[0m \u001b[0mdim\u001b[0m\u001b[0;34m=\u001b[0m\u001b[0;34m'profile'\u001b[0m\u001b[0;34m)\u001b[0m\u001b[0;34m.\u001b[0m\u001b[0mvalues\u001b[0m\u001b[0;34m\u001b[0m\u001b[0;34m\u001b[0m\u001b[0m\n\u001b[1;32m    151\u001b[0m    \u001b[0msig0_q25\u001b[0m \u001b[0;34m=\u001b[0m \u001b[0mdf\u001b[0m\u001b[0;34m.\u001b[0m\u001b[0msig0\u001b[0m\u001b[0;34m.\u001b[0m\u001b[0mquantile\u001b[0m\u001b[0;34m(\u001b[0m\u001b[0;36m0.25\u001b[0m\u001b[0;34m,\u001b[0m \u001b[0mdim\u001b[0m\u001b[0;34m=\u001b[0m\u001b[0;34m'profile'\u001b[0m\u001b[0;34m)\u001b[0m\u001b[0;34m.\u001b[0m\u001b[0mvalues\u001b[0m\u001b[0;34m\u001b[0m\u001b[0;34m\u001b[0m\u001b[0m\n",
      "\u001b[0;32m/srv/conda/envs/notebook/lib/python3.9/site-packages/xarray/core/dataarray.py\u001b[0m in \u001b[0;36mvalues\u001b[0;34m(self)\u001b[0m\n\u001b[1;32m    644\u001b[0m         \u001b[0mtype\u001b[0m \u001b[0mdoes\u001b[0m \u001b[0;32mnot\u001b[0m \u001b[0msupport\u001b[0m \u001b[0mcoercion\u001b[0m \u001b[0mlike\u001b[0m \u001b[0mthis\u001b[0m \u001b[0;34m(\u001b[0m\u001b[0me\u001b[0m\u001b[0;34m.\u001b[0m\u001b[0mg\u001b[0m\u001b[0;34m.\u001b[0m \u001b[0mcupy\u001b[0m\u001b[0;34m)\u001b[0m\u001b[0;34m.\u001b[0m\u001b[0;34m\u001b[0m\u001b[0;34m\u001b[0m\u001b[0m\n\u001b[1;32m    645\u001b[0m         \"\"\"\n\u001b[0;32m--> 646\u001b[0;31m         \u001b[0;32mreturn\u001b[0m \u001b[0mself\u001b[0m\u001b[0;34m.\u001b[0m\u001b[0mvariable\u001b[0m\u001b[0;34m.\u001b[0m\u001b[0mvalues\u001b[0m\u001b[0;34m\u001b[0m\u001b[0;34m\u001b[0m\u001b[0m\n\u001b[0m\u001b[1;32m    647\u001b[0m \u001b[0;34m\u001b[0m\u001b[0m\n\u001b[1;32m    648\u001b[0m     \u001b[0;34m@\u001b[0m\u001b[0mvalues\u001b[0m\u001b[0;34m.\u001b[0m\u001b[0msetter\u001b[0m\u001b[0;34m\u001b[0m\u001b[0;34m\u001b[0m\u001b[0m\n",
      "\u001b[0;32m/srv/conda/envs/notebook/lib/python3.9/site-packages/xarray/core/variable.py\u001b[0m in \u001b[0;36mvalues\u001b[0;34m(self)\u001b[0m\n\u001b[1;32m    517\u001b[0m     \u001b[0;32mdef\u001b[0m \u001b[0mvalues\u001b[0m\u001b[0;34m(\u001b[0m\u001b[0mself\u001b[0m\u001b[0;34m)\u001b[0m\u001b[0;34m:\u001b[0m\u001b[0;34m\u001b[0m\u001b[0;34m\u001b[0m\u001b[0m\n\u001b[1;32m    518\u001b[0m         \u001b[0;34m\"\"\"The variable's data as a numpy.ndarray\"\"\"\u001b[0m\u001b[0;34m\u001b[0m\u001b[0;34m\u001b[0m\u001b[0m\n\u001b[0;32m--> 519\u001b[0;31m         \u001b[0;32mreturn\u001b[0m \u001b[0m_as_array_or_item\u001b[0m\u001b[0;34m(\u001b[0m\u001b[0mself\u001b[0m\u001b[0;34m.\u001b[0m\u001b[0m_data\u001b[0m\u001b[0;34m)\u001b[0m\u001b[0;34m\u001b[0m\u001b[0;34m\u001b[0m\u001b[0m\n\u001b[0m\u001b[1;32m    520\u001b[0m \u001b[0;34m\u001b[0m\u001b[0m\n\u001b[1;32m    521\u001b[0m     \u001b[0;34m@\u001b[0m\u001b[0mvalues\u001b[0m\u001b[0;34m.\u001b[0m\u001b[0msetter\u001b[0m\u001b[0;34m\u001b[0m\u001b[0;34m\u001b[0m\u001b[0m\n",
      "\u001b[0;32m/srv/conda/envs/notebook/lib/python3.9/site-packages/xarray/core/variable.py\u001b[0m in \u001b[0;36m_as_array_or_item\u001b[0;34m(data)\u001b[0m\n\u001b[1;32m    257\u001b[0m     \u001b[0mTODO\u001b[0m\u001b[0;34m:\u001b[0m \u001b[0mremove\u001b[0m \u001b[0mthis\u001b[0m \u001b[0;34m(\u001b[0m\u001b[0mreplace\u001b[0m \u001b[0;32mwith\u001b[0m \u001b[0mnp\u001b[0m\u001b[0;34m.\u001b[0m\u001b[0masarray\u001b[0m\u001b[0;34m)\u001b[0m \u001b[0monce\u001b[0m \u001b[0mthese\u001b[0m \u001b[0missues\u001b[0m \u001b[0mare\u001b[0m \u001b[0mfixed\u001b[0m\u001b[0;34m\u001b[0m\u001b[0;34m\u001b[0m\u001b[0m\n\u001b[1;32m    258\u001b[0m     \"\"\"\n\u001b[0;32m--> 259\u001b[0;31m     \u001b[0mdata\u001b[0m \u001b[0;34m=\u001b[0m \u001b[0mnp\u001b[0m\u001b[0;34m.\u001b[0m\u001b[0masarray\u001b[0m\u001b[0;34m(\u001b[0m\u001b[0mdata\u001b[0m\u001b[0;34m)\u001b[0m\u001b[0;34m\u001b[0m\u001b[0;34m\u001b[0m\u001b[0m\n\u001b[0m\u001b[1;32m    260\u001b[0m     \u001b[0;32mif\u001b[0m \u001b[0mdata\u001b[0m\u001b[0;34m.\u001b[0m\u001b[0mndim\u001b[0m \u001b[0;34m==\u001b[0m \u001b[0;36m0\u001b[0m\u001b[0;34m:\u001b[0m\u001b[0;34m\u001b[0m\u001b[0;34m\u001b[0m\u001b[0m\n\u001b[1;32m    261\u001b[0m         \u001b[0;32mif\u001b[0m \u001b[0mdata\u001b[0m\u001b[0;34m.\u001b[0m\u001b[0mdtype\u001b[0m\u001b[0;34m.\u001b[0m\u001b[0mkind\u001b[0m \u001b[0;34m==\u001b[0m \u001b[0;34m\"M\"\u001b[0m\u001b[0;34m:\u001b[0m\u001b[0;34m\u001b[0m\u001b[0;34m\u001b[0m\u001b[0m\n",
      "\u001b[0;32m/srv/conda/envs/notebook/lib/python3.9/site-packages/dask/array/core.py\u001b[0m in \u001b[0;36m__array__\u001b[0;34m(self, dtype, **kwargs)\u001b[0m\n\u001b[1;32m   1532\u001b[0m \u001b[0;34m\u001b[0m\u001b[0m\n\u001b[1;32m   1533\u001b[0m     \u001b[0;32mdef\u001b[0m \u001b[0m__array__\u001b[0m\u001b[0;34m(\u001b[0m\u001b[0mself\u001b[0m\u001b[0;34m,\u001b[0m \u001b[0mdtype\u001b[0m\u001b[0;34m=\u001b[0m\u001b[0;32mNone\u001b[0m\u001b[0;34m,\u001b[0m \u001b[0;34m**\u001b[0m\u001b[0mkwargs\u001b[0m\u001b[0;34m)\u001b[0m\u001b[0;34m:\u001b[0m\u001b[0;34m\u001b[0m\u001b[0;34m\u001b[0m\u001b[0m\n\u001b[0;32m-> 1534\u001b[0;31m         \u001b[0mx\u001b[0m \u001b[0;34m=\u001b[0m \u001b[0mself\u001b[0m\u001b[0;34m.\u001b[0m\u001b[0mcompute\u001b[0m\u001b[0;34m(\u001b[0m\u001b[0;34m)\u001b[0m\u001b[0;34m\u001b[0m\u001b[0;34m\u001b[0m\u001b[0m\n\u001b[0m\u001b[1;32m   1535\u001b[0m         \u001b[0;32mif\u001b[0m \u001b[0mdtype\u001b[0m \u001b[0;32mand\u001b[0m \u001b[0mx\u001b[0m\u001b[0;34m.\u001b[0m\u001b[0mdtype\u001b[0m \u001b[0;34m!=\u001b[0m \u001b[0mdtype\u001b[0m\u001b[0;34m:\u001b[0m\u001b[0;34m\u001b[0m\u001b[0;34m\u001b[0m\u001b[0m\n\u001b[1;32m   1536\u001b[0m             \u001b[0mx\u001b[0m \u001b[0;34m=\u001b[0m \u001b[0mx\u001b[0m\u001b[0;34m.\u001b[0m\u001b[0mastype\u001b[0m\u001b[0;34m(\u001b[0m\u001b[0mdtype\u001b[0m\u001b[0;34m)\u001b[0m\u001b[0;34m\u001b[0m\u001b[0;34m\u001b[0m\u001b[0m\n",
      "\u001b[0;32m/srv/conda/envs/notebook/lib/python3.9/site-packages/dask/base.py\u001b[0m in \u001b[0;36mcompute\u001b[0;34m(self, **kwargs)\u001b[0m\n\u001b[1;32m    286\u001b[0m         \u001b[0mdask\u001b[0m\u001b[0;34m.\u001b[0m\u001b[0mbase\u001b[0m\u001b[0;34m.\u001b[0m\u001b[0mcompute\u001b[0m\u001b[0;34m\u001b[0m\u001b[0;34m\u001b[0m\u001b[0m\n\u001b[1;32m    287\u001b[0m         \"\"\"\n\u001b[0;32m--> 288\u001b[0;31m         \u001b[0;34m(\u001b[0m\u001b[0mresult\u001b[0m\u001b[0;34m,\u001b[0m\u001b[0;34m)\u001b[0m \u001b[0;34m=\u001b[0m \u001b[0mcompute\u001b[0m\u001b[0;34m(\u001b[0m\u001b[0mself\u001b[0m\u001b[0;34m,\u001b[0m \u001b[0mtraverse\u001b[0m\u001b[0;34m=\u001b[0m\u001b[0;32mFalse\u001b[0m\u001b[0;34m,\u001b[0m \u001b[0;34m**\u001b[0m\u001b[0mkwargs\u001b[0m\u001b[0;34m)\u001b[0m\u001b[0;34m\u001b[0m\u001b[0;34m\u001b[0m\u001b[0m\n\u001b[0m\u001b[1;32m    289\u001b[0m         \u001b[0;32mreturn\u001b[0m \u001b[0mresult\u001b[0m\u001b[0;34m\u001b[0m\u001b[0;34m\u001b[0m\u001b[0m\n\u001b[1;32m    290\u001b[0m \u001b[0;34m\u001b[0m\u001b[0m\n",
      "\u001b[0;32m/srv/conda/envs/notebook/lib/python3.9/site-packages/dask/base.py\u001b[0m in \u001b[0;36mcompute\u001b[0;34m(*args, **kwargs)\u001b[0m\n\u001b[1;32m    568\u001b[0m         \u001b[0mpostcomputes\u001b[0m\u001b[0;34m.\u001b[0m\u001b[0mappend\u001b[0m\u001b[0;34m(\u001b[0m\u001b[0mx\u001b[0m\u001b[0;34m.\u001b[0m\u001b[0m__dask_postcompute__\u001b[0m\u001b[0;34m(\u001b[0m\u001b[0;34m)\u001b[0m\u001b[0;34m)\u001b[0m\u001b[0;34m\u001b[0m\u001b[0;34m\u001b[0m\u001b[0m\n\u001b[1;32m    569\u001b[0m \u001b[0;34m\u001b[0m\u001b[0m\n\u001b[0;32m--> 570\u001b[0;31m     \u001b[0mresults\u001b[0m \u001b[0;34m=\u001b[0m \u001b[0mschedule\u001b[0m\u001b[0;34m(\u001b[0m\u001b[0mdsk\u001b[0m\u001b[0;34m,\u001b[0m \u001b[0mkeys\u001b[0m\u001b[0;34m,\u001b[0m \u001b[0;34m**\u001b[0m\u001b[0mkwargs\u001b[0m\u001b[0;34m)\u001b[0m\u001b[0;34m\u001b[0m\u001b[0;34m\u001b[0m\u001b[0m\n\u001b[0m\u001b[1;32m    571\u001b[0m     \u001b[0;32mreturn\u001b[0m \u001b[0mrepack\u001b[0m\u001b[0;34m(\u001b[0m\u001b[0;34m[\u001b[0m\u001b[0mf\u001b[0m\u001b[0;34m(\u001b[0m\u001b[0mr\u001b[0m\u001b[0;34m,\u001b[0m \u001b[0;34m*\u001b[0m\u001b[0ma\u001b[0m\u001b[0;34m)\u001b[0m \u001b[0;32mfor\u001b[0m \u001b[0mr\u001b[0m\u001b[0;34m,\u001b[0m \u001b[0;34m(\u001b[0m\u001b[0mf\u001b[0m\u001b[0;34m,\u001b[0m \u001b[0ma\u001b[0m\u001b[0;34m)\u001b[0m \u001b[0;32min\u001b[0m \u001b[0mzip\u001b[0m\u001b[0;34m(\u001b[0m\u001b[0mresults\u001b[0m\u001b[0;34m,\u001b[0m \u001b[0mpostcomputes\u001b[0m\u001b[0;34m)\u001b[0m\u001b[0;34m]\u001b[0m\u001b[0;34m)\u001b[0m\u001b[0;34m\u001b[0m\u001b[0;34m\u001b[0m\u001b[0m\n\u001b[1;32m    572\u001b[0m \u001b[0;34m\u001b[0m\u001b[0m\n",
      "\u001b[0;32m/srv/conda/envs/notebook/lib/python3.9/site-packages/dask/threaded.py\u001b[0m in \u001b[0;36mget\u001b[0;34m(dsk, result, cache, num_workers, pool, **kwargs)\u001b[0m\n\u001b[1;32m     77\u001b[0m             \u001b[0mpool\u001b[0m \u001b[0;34m=\u001b[0m \u001b[0mMultiprocessingPoolExecutor\u001b[0m\u001b[0;34m(\u001b[0m\u001b[0mpool\u001b[0m\u001b[0;34m)\u001b[0m\u001b[0;34m\u001b[0m\u001b[0;34m\u001b[0m\u001b[0m\n\u001b[1;32m     78\u001b[0m \u001b[0;34m\u001b[0m\u001b[0m\n\u001b[0;32m---> 79\u001b[0;31m     results = get_async(\n\u001b[0m\u001b[1;32m     80\u001b[0m         \u001b[0mpool\u001b[0m\u001b[0;34m.\u001b[0m\u001b[0msubmit\u001b[0m\u001b[0;34m,\u001b[0m\u001b[0;34m\u001b[0m\u001b[0;34m\u001b[0m\u001b[0m\n\u001b[1;32m     81\u001b[0m         \u001b[0mpool\u001b[0m\u001b[0;34m.\u001b[0m\u001b[0m_max_workers\u001b[0m\u001b[0;34m,\u001b[0m\u001b[0;34m\u001b[0m\u001b[0;34m\u001b[0m\u001b[0m\n",
      "\u001b[0;32m/srv/conda/envs/notebook/lib/python3.9/site-packages/dask/local.py\u001b[0m in \u001b[0;36mget_async\u001b[0;34m(submit, num_workers, dsk, result, cache, get_id, rerun_exceptions_locally, pack_exception, raise_exception, callbacks, dumps, loads, chunksize, **kwargs)\u001b[0m\n\u001b[1;32m    494\u001b[0m             \u001b[0;32mwhile\u001b[0m \u001b[0mstate\u001b[0m\u001b[0;34m[\u001b[0m\u001b[0;34m\"waiting\"\u001b[0m\u001b[0;34m]\u001b[0m \u001b[0;32mor\u001b[0m \u001b[0mstate\u001b[0m\u001b[0;34m[\u001b[0m\u001b[0;34m\"ready\"\u001b[0m\u001b[0;34m]\u001b[0m \u001b[0;32mor\u001b[0m \u001b[0mstate\u001b[0m\u001b[0;34m[\u001b[0m\u001b[0;34m\"running\"\u001b[0m\u001b[0;34m]\u001b[0m\u001b[0;34m:\u001b[0m\u001b[0;34m\u001b[0m\u001b[0;34m\u001b[0m\u001b[0m\n\u001b[1;32m    495\u001b[0m                 \u001b[0mfire_tasks\u001b[0m\u001b[0;34m(\u001b[0m\u001b[0mchunksize\u001b[0m\u001b[0;34m)\u001b[0m\u001b[0;34m\u001b[0m\u001b[0;34m\u001b[0m\u001b[0m\n\u001b[0;32m--> 496\u001b[0;31m                 \u001b[0;32mfor\u001b[0m \u001b[0mkey\u001b[0m\u001b[0;34m,\u001b[0m \u001b[0mres_info\u001b[0m\u001b[0;34m,\u001b[0m \u001b[0mfailed\u001b[0m \u001b[0;32min\u001b[0m \u001b[0mqueue_get\u001b[0m\u001b[0;34m(\u001b[0m\u001b[0mqueue\u001b[0m\u001b[0;34m)\u001b[0m\u001b[0;34m.\u001b[0m\u001b[0mresult\u001b[0m\u001b[0;34m(\u001b[0m\u001b[0;34m)\u001b[0m\u001b[0;34m:\u001b[0m\u001b[0;34m\u001b[0m\u001b[0;34m\u001b[0m\u001b[0m\n\u001b[0m\u001b[1;32m    497\u001b[0m                     \u001b[0;32mif\u001b[0m \u001b[0mfailed\u001b[0m\u001b[0;34m:\u001b[0m\u001b[0;34m\u001b[0m\u001b[0;34m\u001b[0m\u001b[0m\n\u001b[1;32m    498\u001b[0m                         \u001b[0mexc\u001b[0m\u001b[0;34m,\u001b[0m \u001b[0mtb\u001b[0m \u001b[0;34m=\u001b[0m \u001b[0mloads\u001b[0m\u001b[0;34m(\u001b[0m\u001b[0mres_info\u001b[0m\u001b[0;34m)\u001b[0m\u001b[0;34m\u001b[0m\u001b[0;34m\u001b[0m\u001b[0m\n",
      "\u001b[0;32m/srv/conda/envs/notebook/lib/python3.9/site-packages/dask/local.py\u001b[0m in \u001b[0;36mqueue_get\u001b[0;34m(q)\u001b[0m\n\u001b[1;32m    132\u001b[0m \u001b[0;34m\u001b[0m\u001b[0m\n\u001b[1;32m    133\u001b[0m     \u001b[0;32mdef\u001b[0m \u001b[0mqueue_get\u001b[0m\u001b[0;34m(\u001b[0m\u001b[0mq\u001b[0m\u001b[0;34m)\u001b[0m\u001b[0;34m:\u001b[0m\u001b[0;34m\u001b[0m\u001b[0;34m\u001b[0m\u001b[0m\n\u001b[0;32m--> 134\u001b[0;31m         \u001b[0;32mreturn\u001b[0m \u001b[0mq\u001b[0m\u001b[0;34m.\u001b[0m\u001b[0mget\u001b[0m\u001b[0;34m(\u001b[0m\u001b[0;34m)\u001b[0m\u001b[0;34m\u001b[0m\u001b[0;34m\u001b[0m\u001b[0m\n\u001b[0m\u001b[1;32m    135\u001b[0m \u001b[0;34m\u001b[0m\u001b[0m\n\u001b[1;32m    136\u001b[0m \u001b[0;34m\u001b[0m\u001b[0m\n",
      "\u001b[0;32m/srv/conda/envs/notebook/lib/python3.9/queue.py\u001b[0m in \u001b[0;36mget\u001b[0;34m(self, block, timeout)\u001b[0m\n\u001b[1;32m    169\u001b[0m             \u001b[0;32melif\u001b[0m \u001b[0mtimeout\u001b[0m \u001b[0;32mis\u001b[0m \u001b[0;32mNone\u001b[0m\u001b[0;34m:\u001b[0m\u001b[0;34m\u001b[0m\u001b[0;34m\u001b[0m\u001b[0m\n\u001b[1;32m    170\u001b[0m                 \u001b[0;32mwhile\u001b[0m \u001b[0;32mnot\u001b[0m \u001b[0mself\u001b[0m\u001b[0;34m.\u001b[0m\u001b[0m_qsize\u001b[0m\u001b[0;34m(\u001b[0m\u001b[0;34m)\u001b[0m\u001b[0;34m:\u001b[0m\u001b[0;34m\u001b[0m\u001b[0;34m\u001b[0m\u001b[0m\n\u001b[0;32m--> 171\u001b[0;31m                     \u001b[0mself\u001b[0m\u001b[0;34m.\u001b[0m\u001b[0mnot_empty\u001b[0m\u001b[0;34m.\u001b[0m\u001b[0mwait\u001b[0m\u001b[0;34m(\u001b[0m\u001b[0;34m)\u001b[0m\u001b[0;34m\u001b[0m\u001b[0;34m\u001b[0m\u001b[0m\n\u001b[0m\u001b[1;32m    172\u001b[0m             \u001b[0;32melif\u001b[0m \u001b[0mtimeout\u001b[0m \u001b[0;34m<\u001b[0m \u001b[0;36m0\u001b[0m\u001b[0;34m:\u001b[0m\u001b[0;34m\u001b[0m\u001b[0;34m\u001b[0m\u001b[0m\n\u001b[1;32m    173\u001b[0m                 \u001b[0;32mraise\u001b[0m \u001b[0mValueError\u001b[0m\u001b[0;34m(\u001b[0m\u001b[0;34m\"'timeout' must be a non-negative number\"\u001b[0m\u001b[0;34m)\u001b[0m\u001b[0;34m\u001b[0m\u001b[0;34m\u001b[0m\u001b[0m\n",
      "\u001b[0;32m/srv/conda/envs/notebook/lib/python3.9/threading.py\u001b[0m in \u001b[0;36mwait\u001b[0;34m(self, timeout)\u001b[0m\n\u001b[1;32m    310\u001b[0m         \u001b[0;32mtry\u001b[0m\u001b[0;34m:\u001b[0m    \u001b[0;31m# restore state no matter what (e.g., KeyboardInterrupt)\u001b[0m\u001b[0;34m\u001b[0m\u001b[0;34m\u001b[0m\u001b[0m\n\u001b[1;32m    311\u001b[0m             \u001b[0;32mif\u001b[0m \u001b[0mtimeout\u001b[0m \u001b[0;32mis\u001b[0m \u001b[0;32mNone\u001b[0m\u001b[0;34m:\u001b[0m\u001b[0;34m\u001b[0m\u001b[0;34m\u001b[0m\u001b[0m\n\u001b[0;32m--> 312\u001b[0;31m                 \u001b[0mwaiter\u001b[0m\u001b[0;34m.\u001b[0m\u001b[0macquire\u001b[0m\u001b[0;34m(\u001b[0m\u001b[0;34m)\u001b[0m\u001b[0;34m\u001b[0m\u001b[0;34m\u001b[0m\u001b[0m\n\u001b[0m\u001b[1;32m    313\u001b[0m                 \u001b[0mgotit\u001b[0m \u001b[0;34m=\u001b[0m \u001b[0;32mTrue\u001b[0m\u001b[0;34m\u001b[0m\u001b[0;34m\u001b[0m\u001b[0m\n\u001b[1;32m    314\u001b[0m             \u001b[0;32melse\u001b[0m\u001b[0;34m:\u001b[0m\u001b[0;34m\u001b[0m\u001b[0;34m\u001b[0m\u001b[0m\n",
      "\u001b[0;31mKeyboardInterrupt\u001b[0m: "
     ]
    }
   ],
   "source": [
    "#####################################################################\n",
    "# Plot classification results (vertical structures)\n",
    "#####################################################################\n",
    "\n",
    "# simplify Dataset for plotting purposes\n",
    "dfp = profiles\n",
    "dfp = dfp.drop({'depth_highz','sig0_levs','prof_T','prof_S','ct_on_highz',\n",
    "                'sa_on_highz','sig0_on_highz','ct_on_sig0','sa_on_sig0'})\n",
    "\n",
    "# plot T, S vertical structure of the classes\n",
    "pt.plot_class_vertical_structures(ploc, profiles, n_components_selected,\n",
    "                                  colormap, zmin=zmin, zmax=zmax,\n",
    "                                  Tmin=Trange[0], Tmax=Trange[1],\n",
    "                                  Smin=Srange[0], Smax=Srange[1],\n",
    "                                  sig0min=sig0range[0], sig0max=sig0range[1],\n",
    "                                  frac=0.33)\n",
    "\n",
    "# TS diagram just showing the mean values\n",
    "pt.plot_TS_withMeans(ploc, class_means, class_stds, n_components_selected,\n",
    "                     colormap, PTrange=Trange, SPrange=Srange)"
   ]
  },
  {
   "cell_type": "code",
   "execution_count": null,
   "id": "2ecb389e-e8c3-4d5b-84df-922048846047",
   "metadata": {},
   "outputs": [
    {
     "name": "stdout",
     "output_type": "stream",
     "text": [
      "plot_tools.plot_CT_class_structure\n",
      "plot_tools.plot_SA_class_structure\n"
     ]
    }
   ],
   "source": [
    "# CT, SA, and sig0 class structure (means and standard deviation)\n",
    "# these may be redundant now ---\n",
    "pt.plot_CT_class_structure(ploc, dfp, class_means, class_stds,\n",
    "                           n_components_selected, colormap, zmin, zmax,\n",
    "                           Tmin=Trange[0], Tmax=Trange[1])\n",
    "pt.plot_SA_class_structure(ploc, dfp, class_means,class_stds,\n",
    "                           n_components_selected, colormap, zmin, zmax,\n",
    "                           Smin=Srange[0], Smax=Srange[1])\n",
    "pt.plot_sig0_class_structure(ploc, dfp, class_means, class_stds,\n",
    "                           n_components_selected, colormap, zmin, zmax,\n",
    "                           sig0min=sig0range[0], sig0max=sig0range[1])\n",
    "pt.plot_CT_and_SA_class_structure(ploc, profiles, class_means, class_stds,\n",
    "                                  n_components_selected, colormap, zmin, zmax,\n",
    "                                  Tmin=Trange[0], Tmax=Trange[1],\n",
    "                                  Smin=Srange[0], Smax=Srange[1])"
   ]
  },
  {
   "cell_type": "code",
   "execution_count": null,
   "id": "90419a17-3840-4668-86a2-8f76c2697586",
   "metadata": {},
   "outputs": [],
   "source": [
    "# plot 3D pca structure (now with class labels)\n",
    "pt.plot_pca3D(ploc, colormap, dfp, Xtrans, frac=0.33, withLabels=True)\n",
    "\n",
    "# plot some single level T-S diagrams\n",
    "pt.plot_TS_single_lev(ploc, dfp, n_components_selected, colormap,\n",
    "                      descrip='', plev=0, PTrange=Trange,\n",
    "                      SPrange=Srange, lon = -20, lat = -65, rr = 0.60)\n",
    "\n",
    "# plot multiple-level T-S diagrams\n",
    "pt.plot_TS_multi_lev(ploc, dfp, n_components_selected, colormap,\n",
    "                     descrip='', plev=0, PTrange=Trange,\n",
    "                     SPrange=Srange, lon = -20, lat = -65, rr = 0.33)\n",
    "\n",
    "# plot T-S diagram (all levels shown)\n",
    "pt.plot_TS_all_lev(ploc, dfp, n_components_selected, colormap,\n",
    "                   descrip='', PTrange=Trange, SPrange=Srange,\n",
    "                   lon = -20, lat = -65, rr = 0.33)\n",
    "\n",
    "# plot T-S diagrams (by class, shaded by year and month)\n",
    "pt.plot_TS_bytime(ploc, dfp, n_components_selected,\n",
    "                   descrip='', PTrange=Trange, SPrange=Srange,\n",
    "                   lon = -20, lat = -65, rr = 0.60, timeShading='year')\n",
    "pt.plot_TS_bytime(ploc, dfp, n_components_selected,\n",
    "                   descrip='', PTrange=Trange, SPrange=Srange,\n",
    "                   lon = -20, lat = -65, rr = 0.60, timeShading='month')"
   ]
  },
  {
   "cell_type": "code",
   "execution_count": null,
   "id": "99f7f18d-8d26-44fe-9478-6341b9e1f1ea",
   "metadata": {},
   "outputs": [],
   "source": [
    "#####################################################################\n",
    "# Label map, showing all profiles and their classes\n",
    "#####################################################################\n",
    "\n",
    "# plot label map\n",
    "pt.plot_label_map(ploc, dfp, n_components_selected, colormap,\n",
    "                   lon_min, lon_max, lat_min, lat_max)"
   ]
  },
  {
   "cell_type": "code",
   "execution_count": null,
   "id": "774e871c-c7de-4642-bef9-74de8bcff6b4",
   "metadata": {},
   "outputs": [],
   "source": [
    "#####################################################################\n",
    "# I-metric plots\n",
    "#####################################################################\n",
    "\n",
    "# calculate the i-metric\n",
    "df1D = dfp.isel(depth=0)\n",
    "df1D = gmm.calc_i_metric(profiles)\n",
    "pt.plot_i_metric_single_panel(ploc, df1D, lon_min, lon_max, lat_min, lat_max)\n",
    "pt.plot_i_metric_multiple_panels(ploc, df1D, lon_min, lon_max,\n",
    "                                 lat_min, lat_max, n_components_selected)"
   ]
  },
  {
   "cell_type": "code",
   "execution_count": null,
   "id": "074832be-39e6-4114-825a-b706270a5ae9",
   "metadata": {},
   "outputs": [],
   "source": [
    "#####################################################################\n",
    "# Further analysis of time variation\n",
    "#####################################################################\n",
    "\n",
    "# Visualize profile stats by class and year (all profiles)\n",
    "at.examine_prof_stats_by_label_and_year(ploc, profiles, colormap, frac = 0.95, \\\n",
    "                                        zmin=20, zmax=1000, \\\n",
    "                                        Tmin = Trange[0], Tmax = Trange[1], \\\n",
    "                                        Smin = Srange[0], Smax = Srange[1], \\\n",
    "                                        sig0min = sig0range[0], sig0max = sig0range[1], \\\n",
    "                                        alpha=0.1)"
   ]
  },
  {
   "cell_type": "code",
   "execution_count": null,
   "id": "3e360f56-b885-4f96-9749-9b2836863a61",
   "metadata": {},
   "outputs": [],
   "source": [
    "#####################################################################\n",
    "# Save the profiles in a separate NetCDF file\n",
    "#####################################################################\n",
    "\n",
    "if saveOutput==True:\n",
    "    profiles.to_netcdf(fname, mode='w')\n",
    "\n",
    "#####################################################################\n",
    "# END\n",
    "#####################################################################"
   ]
  }
 ],
 "metadata": {
  "kernelspec": {
   "display_name": "Python 3 (ipykernel)",
   "language": "python",
   "name": "python3"
  },
  "language_info": {
   "codemirror_mode": {
    "name": "ipython",
    "version": 3
   },
   "file_extension": ".py",
   "mimetype": "text/x-python",
   "name": "python",
   "nbconvert_exporter": "python",
   "pygments_lexer": "ipython3",
   "version": "3.9.7"
  }
 },
 "nbformat": 4,
 "nbformat_minor": 5
}
